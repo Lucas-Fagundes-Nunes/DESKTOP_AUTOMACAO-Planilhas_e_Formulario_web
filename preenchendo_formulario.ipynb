{
 "cells": [
  {
   "cell_type": "code",
   "execution_count": 8,
   "id": "2dddb360-7df5-4cb8-a3dd-f139e9893d36",
   "metadata": {},
   "outputs": [
    {
     "name": "stdout",
     "output_type": "stream",
     "text": [
      "Collecting openpyxl\n",
      "  Downloading openpyxl-3.1.2-py2.py3-none-any.whl (249 kB)\n",
      "     ---------------------------------------- 0.0/250.0 kB ? eta -:--:--\n",
      "     ----------------- -------------------- 112.6/250.0 kB 3.3 MB/s eta 0:00:01\n",
      "     -------------------------------------- 250.0/250.0 kB 3.9 MB/s eta 0:00:00\n",
      "Collecting et-xmlfile (from openpyxl)\n",
      "  Downloading et_xmlfile-1.1.0-py3-none-any.whl (4.7 kB)\n",
      "Installing collected packages: et-xmlfile, openpyxl\n",
      "Successfully installed et-xmlfile-1.1.0 openpyxl-3.1.2\n",
      "Note: you may need to restart the kernel to use updated packages.\n"
     ]
    }
   ],
   "source": [
    "pip install selenium\n",
    "pip install pyautogui\n",
    "pip install openpyxl"
   ]
  },
  {
   "cell_type": "markdown",
   "id": "c758f365-9a55-46ad-b937-d9487a4c7016",
   "metadata": {},
   "source": [
    "## PARTE AUTOMATIZADA PARA A WEB"
   ]
  },
  {
   "cell_type": "code",
   "execution_count": 2,
   "id": "8f66936d-6efd-4af7-80c6-468c5a576eca",
   "metadata": {},
   "outputs": [],
   "source": [
    "from selenium import webdriver as opcoesSelenium\n",
    "from selenium.webdriver.common.keys import Keys\n",
    "from selenium.webdriver.common.by import By\n",
    "import pyautogui as tempoEspera\n",
    "\n",
    "navegadorFormulario = opcoesSelenium.Chrome()\n",
    "navegadorFormulario.get(\"https://pt.surveymonkey.com/r/Y9Y6FFR\")\n",
    "\n",
    "# Aguardar para o computador processar as informações\n",
    "tempoEspera.sleep(6)\n",
    "\n",
    "# Preenche Nome\n",
    "navegadorFormulario.find_element(By.NAME, \"683928983\").send_keys(\"Nicole Ferreira\")\n",
    "\n",
    "# Preenchendo E-mail\n",
    "navegadorFormulario.find_element(By.NAME, \"683932318\").send_keys(\"nicole@gmail.com\")\n",
    "\n",
    "# Preenchendo Telefone\n",
    "navegadorFormulario.find_element(By.NAME, \"683930688\").send_keys(\"(11) 91111-11111\")\n",
    "\n",
    "# Sexo Feminino\n",
    "navegadorFormulario.find_element(By.ID, \"683931881_4497366119_label\").click()\n",
    "\n",
    "# Escreva sobre você\n",
    "navegadorFormulario.find_element(By.NAME, \"683932969\").send_keys(\"Sei automatizar processos e planilhas com python\")\n",
    "\n",
    "tempoEspera.sleep(2)\n",
    "\n",
    "# Botão\n",
    "navegadorFormulario.find_element(By.XPATH, '//*[@id=\"patas\"]/main/article/section/form/div[2]/button').click()"
   ]
  },
  {
   "cell_type": "markdown",
   "id": "15f39f16-a085-4172-88ca-cf32503e2acf",
   "metadata": {},
   "source": [
    "## PARTE AUTOMATIZADA PARA A PLANILHA"
   ]
  },
  {
   "cell_type": "code",
   "execution_count": 11,
   "id": "f764849e-5d89-4312-a745-4f449c593320",
   "metadata": {},
   "outputs": [
    {
     "name": "stdout",
     "output_type": "stream",
     "text": [
      "Raquel Alves\n",
      "raquel.alves@gmail.com\n",
      "(11) 98871 - 8788\n",
      "Feminino\n",
      "Domina TI\n",
      "\n",
      "Roger Ferreira\n",
      "roger.ferreira@gmail.com\n",
      "(11) 98871 - 8789\n",
      "Masculino\n",
      "Domina Redes\n",
      "\n",
      "Rosiane Bernardes\n",
      "rosiane.bernardes@gmail.com\n",
      "(11) 98871 - 8790\n",
      "Feminino\n",
      "Experincia em automação\n",
      "\n",
      "Francisco Pires\n",
      "francisco.pires@gmail.com\n",
      "(11) 98871 - 8791\n",
      "Masculino\n",
      "Especialista em Automação\n",
      "\n"
     ]
    }
   ],
   "source": [
    "from openpyxl import load_workbook\n",
    "import os\n",
    "\n",
    "pathFile = \"C:\\\\Users\\lucasnunes\\jupyterLab\\PreenchendoFormulario\\DadosFormulario.xlsx\"\n",
    "openFile = load_workbook(filename=pathFile)\n",
    "\n",
    "# Seleciona a sheet de dados do execel (parte inferior das páginas)\n",
    "sheet_select = openFile['Dados']\n",
    "\n",
    "# Percorrer a coluna 'a'\n",
    "for line in range(2, len(sheet_select['A']) + 1):\n",
    "    # Capturar o valor de acordo com a linha '% line'\n",
    "    name = sheet_select['A%s' % line].value\n",
    "    email = sheet_select['B%s' % line].value\n",
    "    phone = sheet_select['C%s' % line].value\n",
    "    sex = sheet_select['D%s' % line].value\n",
    "    about = sheet_select['E%s' % line].value\n",
    "\n",
    "    print(name)\n",
    "    print(email)\n",
    "    print(phone)\n",
    "    print(sex)\n",
    "    print(about)\n",
    "    print('')"
   ]
  },
  {
   "cell_type": "markdown",
   "id": "1ea4a985-855e-4996-95d2-8db4358d8cd7",
   "metadata": {},
   "source": [
    "## AUTOMATIZAÇÃO COMPLETA ( EXCEL E WEB )"
   ]
  },
  {
   "cell_type": "code",
   "execution_count": 27,
   "id": "687fcacf-1171-46ea-bcfc-97931934cf8e",
   "metadata": {},
   "outputs": [
    {
     "name": "stdout",
     "output_type": "stream",
     "text": [
      "2023-11-01 10:38:52 - #### APLICAÇÃO INICIADA #### - INFO\n",
      "2023-11-01 10:39:17 - ENVIANDO USUÁRIO RAQUEL ALVES - INFO\n",
      "2023-11-01 10:39:17 - #### USUÁRIO ENVIADO COM SUCESSO #### - SUCESSO\n",
      "2023-11-01 10:39:29 - ENVIANDO USUÁRIO ROGER FERREIRA - INFO\n",
      "2023-11-01 10:39:29 - #### USUÁRIO ENVIADO COM SUCESSO #### - SUCESSO\n",
      "2023-11-01 10:39:41 - ENVIANDO USUÁRIO ROSIANE BERNARDES - INFO\n",
      "2023-11-01 10:39:41 - #### USUÁRIO ENVIADO COM SUCESSO #### - SUCESSO\n",
      "2023-11-01 10:39:53 - ENVIANDO USUÁRIO FRANCISCO PIRES - INFO\n",
      "2023-11-01 10:39:53 - #### USUÁRIO ENVIADO COM SUCESSO #### - SUCESSO\n",
      "2023-11-01 10:39:57 - #### APLICAÇÃO FINALIZADA #### - SUCESSO\n"
     ]
    }
   ],
   "source": [
    "from selenium import webdriver as opcoesSelenium\n",
    "from selenium.webdriver.common.keys import Keys\n",
    "from selenium.webdriver.common.by import By\n",
    "import pyautogui as tempoEspera\n",
    "from openpyxl import load_workbook\n",
    "import os\n",
    "from datetime import datetime\n",
    "\n",
    "def print_screen(acao, status=None):\n",
    "    time = datetime.now().strftime('%Y-%m-%d %H:%M:%S')\n",
    "    if status == None:\n",
    "        status = \"INFO\"\n",
    "    print(f\"{time} - {acao} - {status}\")\n",
    "\n",
    "def selectedSex(browserForm, sex):\n",
    "    if sex == \"Masculino\":\n",
    "        browserForm.find_element(By.ID, \"683931881_4497366118_label\").click()\n",
    "    elif sex == \"Feminino\":\n",
    "        browserForm.find_element(By.ID, \"683931881_4497366119_label\").click()\n",
    "\n",
    "def sendingQuestionnaireByName(browserForm, name, sendKey):\n",
    "    browserForm.find_element(By.NAME, name).send_keys(sendKey)\n",
    "\n",
    "def submitForm():\n",
    "    pathFile = \"C:\\\\Users\\jupyterLab\\PreenchendoFormulario\\DadosFormulario.xlsx\"\n",
    "    openFile = load_workbook(filename=pathFile)\n",
    "    sheet_select = openFile['Dados']\n",
    "\n",
    "    for line in range(2, len(sheet_select['A']) + 1):\n",
    "        browserForm = opcoesSelenium.Chrome()\n",
    "        browserForm.get(\"https://pt.surveymonkey.com/r/Y9Y6FFR\")\n",
    "        tempoEspera.sleep(4)\n",
    "        \n",
    "        name = sheet_select['A%s' % line].value\n",
    "        email = sheet_select['B%s' % line].value\n",
    "        phone = sheet_select['C%s' % line].value\n",
    "        sex = sheet_select['D%s' % line].value\n",
    "        about = sheet_select['E%s' % line].value\n",
    "\n",
    "        print_screen(f\"ENVIANDO USUÁRIO {name.upper()}\")\n",
    "        \n",
    "        sendingQuestionnaireByName(browserForm, \"683928983\", name)\n",
    "        sendingQuestionnaireByName(browserForm, \"683932318\", email)\n",
    "        sendingQuestionnaireByName(browserForm, \"683930688\", phone)\n",
    "        selectedSex(browserForm, sex)\n",
    "        sendingQuestionnaireByName(browserForm, \"683932969\", about)\n",
    "        print_screen(\"#### USUÁRIO ENVIADO COM SUCESSO ####\", \"SUCESSO\")\n",
    "        tempoEspera.sleep(2)\n",
    "        browserForm.find_element(By.XPATH, '//*[@id=\"patas\"]/main/article/section/form/div[2]/button').click()\n",
    "        browserForm.quit()\n",
    "def main():\n",
    "    print_screen(\"#### APLICAÇÃO INICIADA ####\")\n",
    "    submitForm()\n",
    "    print_screen(\"#### APLICAÇÃO FINALIZADA ####\", \"SUCESSO\")\n",
    "    \n",
    "main()\n"
   ]
  },
  {
   "cell_type": "code",
   "execution_count": null,
   "id": "c21e0917-fdec-499c-ae4a-12836141eee2",
   "metadata": {},
   "outputs": [],
   "source": []
  }
 ],
 "metadata": {
  "kernelspec": {
   "display_name": "Python 3 (ipykernel)",
   "language": "python",
   "name": "python3"
  },
  "language_info": {
   "codemirror_mode": {
    "name": "ipython",
    "version": 3
   },
   "file_extension": ".py",
   "mimetype": "text/x-python",
   "name": "python",
   "nbconvert_exporter": "python",
   "pygments_lexer": "ipython3",
   "version": "3.8.0"
  }
 },
 "nbformat": 4,
 "nbformat_minor": 5
}
